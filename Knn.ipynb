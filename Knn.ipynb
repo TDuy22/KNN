{
 "cells": [
  {
   "cell_type": "code",
   "execution_count": 37,
   "metadata": {},
   "outputs": [],
   "source": [
    "import pandas as pd"
   ]
  },
  {
   "cell_type": "code",
   "execution_count": 38,
   "metadata": {},
   "outputs": [],
   "source": [
    "class KNN:\n",
    "    def __init__(self,k):\n",
    "        self.k = k\n",
    "\n",
    "    def fit(self, df):\n",
    "        self.df = df\n",
    "\n",
    "    def predict(self, l_check):\n",
    "        self.distance = []\n",
    "        for i in range (self.df.shape[0]):\n",
    "            distance1 = 0\n",
    "            for t in range (4):\n",
    "                distance1 += (l_check[t]-self.df.iloc[i][t])**2\n",
    "            self.distance.append((distance1, self.df.iloc[i][-1]))\n",
    "        \n",
    "        def myF(x):\n",
    "            return x[0]\n",
    "        \n",
    "        self.distance.sort(key = myF)\n",
    "    \n",
    "        data = {}\n",
    "        for i in range (self.k):\n",
    "            if self.distance[i][1] not in data:\n",
    "                data[self.distance[i][1]] = 1\n",
    "            else:\n",
    "                data[self.distance[i][1]] += 1\n",
    "            \n",
    "        xdata = list(data.items())\n",
    "        def myFu(x):\n",
    "            return x[1]\n",
    "        xdata.sort(key = myFu)\n",
    "        return xdata[-1][0]\n",
    "    \n",
    "\n",
    "\n"
   ]
  },
  {
   "cell_type": "code",
   "execution_count": 39,
   "metadata": {},
   "outputs": [],
   "source": [
    "df = pd.read_csv(\"Iris.csv\")\n",
    "df_check = pd.read_csv(\"Iris_test.csv\")\n",
    "del df[\"Id\"]\n",
    "del df_check[\"Id\"]\n",
    "# def change(df):\n",
    "#     df.loc[df['Species'] == 'Iris-setosa', 'Species'] = 1\n",
    "#     df.loc[df['Species'] == 'Iris-versicolor', 'Species'] = 2\n",
    "#     df.loc[df['Species'] == 'Iris-virginica', 'Species'] = 3\n",
    "# change(df)\n",
    "# change(df_check)\n"
   ]
  },
  {
   "cell_type": "code",
   "execution_count": 40,
   "metadata": {},
   "outputs": [
    {
     "name": "stderr",
     "output_type": "stream",
     "text": [
      "C:\\Users\\Admin\\AppData\\Local\\Temp\\ipykernel_7544\\468492002.py:13: FutureWarning: Series.__getitem__ treating keys as positions is deprecated. In a future version, integer keys will always be treated as labels (consistent with DataFrame behavior). To access a value by position, use `ser.iloc[pos]`\n",
      "  distance1 += (l_check[t]-self.df.iloc[i][t])**2\n",
      "C:\\Users\\Admin\\AppData\\Local\\Temp\\ipykernel_7544\\468492002.py:14: FutureWarning: Series.__getitem__ treating keys as positions is deprecated. In a future version, integer keys will always be treated as labels (consistent with DataFrame behavior). To access a value by position, use `ser.iloc[pos]`\n",
      "  self.distance.append((distance1, self.df.iloc[i][-1]))\n",
      "C:\\Users\\Admin\\AppData\\Local\\Temp\\ipykernel_7544\\3346141069.py:8: FutureWarning: Series.__getitem__ treating keys as positions is deprecated. In a future version, integer keys will always be treated as labels (consistent with DataFrame behavior). To access a value by position, use `ser.iloc[pos]`\n",
      "  if model.predict(df_check.iloc[i]) == df_check.iloc[i][-1]:\n"
     ]
    },
    {
     "name": "stdout",
     "output_type": "stream",
     "text": [
      "k=  1\n",
      "Accuracy:  0.92\n",
      "k=  2\n",
      "Accuracy:  0.88\n",
      "k=  3\n",
      "Accuracy:  0.92\n",
      "k=  4\n",
      "Accuracy:  0.92\n",
      "k=  5\n",
      "Accuracy:  0.92\n",
      "k=  6\n",
      "Accuracy:  0.92\n",
      "k=  7\n",
      "Accuracy:  0.96\n",
      "k=  8\n",
      "Accuracy:  1.0\n",
      "k=  9\n",
      "Accuracy:  0.96\n",
      "k=  10\n",
      "Accuracy:  1.0\n",
      "k=  11\n",
      "Accuracy:  0.96\n",
      "k=  12\n",
      "Accuracy:  1.0\n",
      "k=  13\n",
      "Accuracy:  1.0\n",
      "k=  14\n",
      "Accuracy:  1.0\n",
      "k=  15\n",
      "Accuracy:  0.92\n"
     ]
    }
   ],
   "source": [
    "k = 8\n",
    "for k in range (1, 16):\n",
    "    model = KNN(k)\n",
    "    model.fit(df)\n",
    "\n",
    "    count = 0\n",
    "    for i in range (df_check.shape[0]):\n",
    "        if model.predict(df_check.iloc[i]) == df_check.iloc[i][-1]:\n",
    "            count += 1\n",
    "    print(\"k= \", k)\n",
    "    print(\"Accuracy: \", count/df_check.shape[0])\n",
    "\n",
    "                "
   ]
  }
 ],
 "metadata": {
  "kernelspec": {
   "display_name": "AI",
   "language": "python",
   "name": "python3"
  },
  "language_info": {
   "codemirror_mode": {
    "name": "ipython",
    "version": 3
   },
   "file_extension": ".py",
   "mimetype": "text/x-python",
   "name": "python",
   "nbconvert_exporter": "python",
   "pygments_lexer": "ipython3",
   "version": "3.9.11"
  }
 },
 "nbformat": 4,
 "nbformat_minor": 2
}
